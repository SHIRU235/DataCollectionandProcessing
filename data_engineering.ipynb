{
 "cells": [
  {
   "cell_type": "code",
   "execution_count": 21,
   "id": "6fbbe596",
   "metadata": {},
   "outputs": [
    {
     "name": "stdout",
     "output_type": "stream",
     "text": [
      "Requirement already satisfied: matplotlib in e:\\datacollection\\venv\\lib\\site-packages (3.10.3)\n",
      "Requirement already satisfied: seaborn in e:\\datacollection\\venv\\lib\\site-packages (0.13.2)\n",
      "Requirement already satisfied: matplotlib-venn in e:\\datacollection\\venv\\lib\\site-packages (1.1.2)\n",
      "Requirement already satisfied: pandas in e:\\datacollection\\venv\\lib\\site-packages (2.2.3)\n",
      "Requirement already satisfied: pyarrow in e:\\datacollection\\venv\\lib\\site-packages (20.0.0)\n",
      "Requirement already satisfied: contourpy>=1.0.1 in e:\\datacollection\\venv\\lib\\site-packages (from matplotlib) (1.3.2)\n",
      "Requirement already satisfied: cycler>=0.10 in e:\\datacollection\\venv\\lib\\site-packages (from matplotlib) (0.12.1)\n",
      "Requirement already satisfied: fonttools>=4.22.0 in e:\\datacollection\\venv\\lib\\site-packages (from matplotlib) (4.58.0)\n",
      "Requirement already satisfied: kiwisolver>=1.3.1 in e:\\datacollection\\venv\\lib\\site-packages (from matplotlib) (1.4.8)\n",
      "Requirement already satisfied: numpy>=1.23 in e:\\datacollection\\venv\\lib\\site-packages (from matplotlib) (2.2.6)\n",
      "Requirement already satisfied: packaging>=20.0 in e:\\datacollection\\venv\\lib\\site-packages (from matplotlib) (25.0)\n",
      "Requirement already satisfied: pillow>=8 in e:\\datacollection\\venv\\lib\\site-packages (from matplotlib) (11.2.1)\n",
      "Requirement already satisfied: pyparsing>=2.3.1 in e:\\datacollection\\venv\\lib\\site-packages (from matplotlib) (3.2.3)\n",
      "Requirement already satisfied: python-dateutil>=2.7 in e:\\datacollection\\venv\\lib\\site-packages (from matplotlib) (2.9.0.post0)\n",
      "Requirement already satisfied: scipy in e:\\datacollection\\venv\\lib\\site-packages (from matplotlib-venn) (1.15.3)\n",
      "Requirement already satisfied: pytz>=2020.1 in e:\\datacollection\\venv\\lib\\site-packages (from pandas) (2025.2)\n",
      "Requirement already satisfied: tzdata>=2022.7 in e:\\datacollection\\venv\\lib\\site-packages (from pandas) (2025.2)\n",
      "Requirement already satisfied: six>=1.5 in e:\\datacollection\\venv\\lib\\site-packages (from python-dateutil>=2.7->matplotlib) (1.17.0)\n",
      "Note: you may need to restart the kernel to use updated packages.\n"
     ]
    },
    {
     "name": "stderr",
     "output_type": "stream",
     "text": [
      "\n",
      "[notice] A new release of pip is available: 25.0.1 -> 25.1.1\n",
      "[notice] To update, run: python.exe -m pip install --upgrade pip\n"
     ]
    }
   ],
   "source": [
    "%pip install matplotlib seaborn matplotlib-venn pandas pyarrow"
   ]
  },
  {
   "cell_type": "markdown",
   "id": "7d52d0b2",
   "metadata": {},
   "source": [
    "Step1: Hello Data"
   ]
  },
  {
   "cell_type": "code",
   "execution_count": 42,
   "id": "b2a31c81",
   "metadata": {},
   "outputs": [
    {
     "data": {
      "text/html": [
       "<div>\n",
       "<style scoped>\n",
       "    .dataframe tbody tr th:only-of-type {\n",
       "        vertical-align: middle;\n",
       "    }\n",
       "\n",
       "    .dataframe tbody tr th {\n",
       "        vertical-align: top;\n",
       "    }\n",
       "\n",
       "    .dataframe thead th {\n",
       "        text-align: right;\n",
       "    }\n",
       "</style>\n",
       "<table border=\"1\" class=\"dataframe\">\n",
       "  <thead>\n",
       "    <tr style=\"text-align: right;\">\n",
       "      <th></th>\n",
       "      <th>Region</th>\n",
       "      <th>Country</th>\n",
       "      <th>Item Type</th>\n",
       "      <th>Sales Channel</th>\n",
       "      <th>Order Priority</th>\n",
       "      <th>Order Date</th>\n",
       "      <th>Order ID</th>\n",
       "      <th>Ship Date</th>\n",
       "      <th>Units Sold</th>\n",
       "      <th>Unit Price</th>\n",
       "      <th>Unit Cost</th>\n",
       "      <th>Total Revenue</th>\n",
       "      <th>Total Cost</th>\n",
       "      <th>Total Profit</th>\n",
       "    </tr>\n",
       "  </thead>\n",
       "  <tbody>\n",
       "    <tr>\n",
       "      <th>0</th>\n",
       "      <td>Middle East and North Africa</td>\n",
       "      <td>Libya</td>\n",
       "      <td>Cosmetics</td>\n",
       "      <td>Offline</td>\n",
       "      <td>M</td>\n",
       "      <td>10/18/2014</td>\n",
       "      <td>686800706.0</td>\n",
       "      <td>10/31/2014</td>\n",
       "      <td>8446.0</td>\n",
       "      <td>437.20</td>\n",
       "      <td>263.33</td>\n",
       "      <td>3692591.20</td>\n",
       "      <td>2224085.18</td>\n",
       "      <td>1468506.02</td>\n",
       "    </tr>\n",
       "    <tr>\n",
       "      <th>1</th>\n",
       "      <td>North America</td>\n",
       "      <td>Canada</td>\n",
       "      <td>Vegetables</td>\n",
       "      <td>Online</td>\n",
       "      <td>M</td>\n",
       "      <td>11/7/2011</td>\n",
       "      <td>185941302.0</td>\n",
       "      <td>12/8/2011</td>\n",
       "      <td>3018.0</td>\n",
       "      <td>154.06</td>\n",
       "      <td>90.93</td>\n",
       "      <td>464953.08</td>\n",
       "      <td>274426.74</td>\n",
       "      <td>190526.34</td>\n",
       "    </tr>\n",
       "    <tr>\n",
       "      <th>2</th>\n",
       "      <td>Middle East and North Africa</td>\n",
       "      <td>Libya</td>\n",
       "      <td>Baby Food</td>\n",
       "      <td>Offline</td>\n",
       "      <td>C</td>\n",
       "      <td>10/31/2016</td>\n",
       "      <td>246222341.0</td>\n",
       "      <td>12/9/2016</td>\n",
       "      <td>1517.0</td>\n",
       "      <td>255.28</td>\n",
       "      <td>159.42</td>\n",
       "      <td>387259.76</td>\n",
       "      <td>241840.14</td>\n",
       "      <td>145419.62</td>\n",
       "    </tr>\n",
       "  </tbody>\n",
       "</table>\n",
       "</div>"
      ],
      "text/plain": [
       "                         Region Country   Item Type Sales Channel  \\\n",
       "0  Middle East and North Africa   Libya   Cosmetics       Offline   \n",
       "1                 North America  Canada  Vegetables        Online   \n",
       "2  Middle East and North Africa   Libya   Baby Food       Offline   \n",
       "\n",
       "  Order Priority  Order Date     Order ID   Ship Date  Units Sold  Unit Price  \\\n",
       "0              M  10/18/2014  686800706.0  10/31/2014      8446.0      437.20   \n",
       "1              M   11/7/2011  185941302.0   12/8/2011      3018.0      154.06   \n",
       "2              C  10/31/2016  246222341.0   12/9/2016      1517.0      255.28   \n",
       "\n",
       "   Unit Cost  Total Revenue  Total Cost  Total Profit  \n",
       "0     263.33     3692591.20  2224085.18    1468506.02  \n",
       "1      90.93      464953.08   274426.74     190526.34  \n",
       "2     159.42      387259.76   241840.14     145419.62  "
      ]
     },
     "execution_count": 42,
     "metadata": {},
     "output_type": "execute_result"
    }
   ],
   "source": [
    "import pandas as pd\n",
    "# Load the CSV file (adjust filename/path accordingly)\n",
    "df = pd.read_csv('Data/1000 Sales Records.csv')\n",
    "\n",
    "# Show the first 3 rows\n",
    "df.head(3)\n"
   ]
  },
  {
   "cell_type": "markdown",
   "id": "05e1e8b4",
   "metadata": {},
   "source": [
    "Step 2: Pick the Right Container\n",
    "\n",
    "I chose to implement a custom Python class Transaction to represent each sales record. \n",
    "\n",
    "- Unlike dictionaries, classes allow bundling both data and related methods (like cleaning, transformations) into one organized structure. \n",
    "- Unlike namedtuples, classes support mutable attributes and custom methods, making them more flexible for this data engineering task.."
   ]
  },
  {
   "cell_type": "markdown",
   "id": "cec71037",
   "metadata": {},
   "source": [
    "Step 3: Transaction Class and OO Data Structure"
   ]
  },
  {
   "cell_type": "code",
   "execution_count": null,
   "id": "b114405f",
   "metadata": {},
   "outputs": [],
   "source": [
    "\n",
    "from typing import Optional\n",
    "from datetime import datetime\n",
    "\n",
    "class Transaction:\n",
    "    def __init__(self, region: str, country: str, item_type: str, sales_channel: str,\n",
    "                 order_priority: str, order_date: str, order_id: int, ship_date: str,\n",
    "                 units_sold: int, unit_price: float, unit_cost: float,\n",
    "                 total_revenue: float, total_cost: float, total_profit: float):\n",
    "        self.region = region\n",
    "        self.country = country\n",
    "        self.item_type = item_type\n",
    "        self.sales_channel = sales_channel\n",
    "        self.order_priority = order_priority\n",
    "        self.order_date = datetime.strptime(order_date, '%m/%d/%Y')\n",
    "        self.order_id = order_id\n",
    "        self.ship_date = datetime.strptime(ship_date, '%m/%d/%Y')\n",
    "        self.units_sold = units_sold\n",
    "        self.unit_price = unit_price\n",
    "        self.unit_cost = unit_cost\n",
    "        self.total_revenue = total_revenue\n",
    "        self.total_cost = total_cost\n",
    "        self.total_profit = total_profit\n",
    "    \n",
    "    def clean(self):\n",
    "        self.region = self.region.strip()\n",
    "        self.country = self.country.strip()\n",
    "        self.item_type = self.item_type.strip()\n",
    "        self.sales_channel = self.sales_channel.strip().upper()\n",
    "        self.order_priority = self.order_priority.strip().upper()\n",
    "        \n",
    "    def total_units_value(self):\n",
    "        return self.units_sold * self.unit_price\n",
    "    \n",
    "    def profit_margin(self):\n",
    "        if self.total_revenue != 0:\n",
    "            return self.total_profit / self.total_revenue\n",
    "        else:\n",
    "            return 0"
   ]
  },
  {
   "cell_type": "markdown",
   "id": "c187487e",
   "metadata": {},
   "source": [
    "Step 4: Bulk loader function:Load all rows into a list of Transaction objects:"
   ]
  },
  {
   "cell_type": "code",
   "execution_count": 52,
   "id": "11641330",
   "metadata": {},
   "outputs": [
    {
     "name": "stdout",
     "output_type": "stream",
     "text": [
      "Loaded 1000 transactions\n"
     ]
    }
   ],
   "source": [
    "\n",
    "from typing import List\n",
    "\n",
    "def load_transactions(filepath: str) -> List[Transaction]:\n",
    "    df = pd.read_csv(filepath)\n",
    "    transactions = []\n",
    "    for _, row in df.iterrows():\n",
    "        txn = Transaction(\n",
    "            region=row['Region'],\n",
    "            country=row['Country'],\n",
    "            item_type=row['Item Type'],\n",
    "            sales_channel=row['Sales Channel'],\n",
    "            order_priority=row['Order Priority'],\n",
    "            order_date=row['Order Date'],\n",
    "            order_id=int(row['Order ID']),\n",
    "            ship_date=row['Ship Date'],\n",
    "            units_sold=int(row['Units Sold']),\n",
    "            unit_price=float(row['Unit Price']),\n",
    "            unit_cost=float(row['Unit Cost']),\n",
    "            total_revenue=float(row['Total Revenue']),\n",
    "            total_cost=float(row['Total Cost']),\n",
    "            total_profit=float(row['Total Profit']),\n",
    "        )\n",
    "        txn.clean()\n",
    "        transactions.append(txn)\n",
    "    return transactions\n",
    " # Example usage\n",
    "transactions = load_transactions('Data/1000 Sales Records.csv')\n",
    "print(f\"Loaded {len(transactions)} transactions\")"
   ]
  },
  {
   "cell_type": "markdown",
   "id": "07a8fea1",
   "metadata": {},
   "source": [
    "Step 5: Quick Profiling"
   ]
  },
  {
   "cell_type": "code",
   "execution_count": null,
   "id": "7bfe90af",
   "metadata": {},
   "outputs": [
    {
     "name": "stdout",
     "output_type": "stream",
     "text": [
      "Minimum unit price: $9.33\n",
      "Average unit price: $262.11\n",
      "Maximum unit price: $668.27\n",
      "Number of unique shipping countries: 185\n"
     ]
    }
   ],
   "source": [
    "#transactions = []\n",
    "#transactions = load_transactions('Data/1000 Sales Records.csv')\n",
    "\n",
    "# 1. Minimum unit price\n",
    "min_unit_price = min(txn.unit_price for txn in transactions)\n",
    "print(f\"Minimum unit price: ${min_unit_price:.2f}\")\n",
    "\n",
    "# 2. Mean (average) unit price\n",
    "mean_unit_price = sum(txn.unit_price for txn in transactions) / len(transactions)\n",
    "print(f\"Average unit price: ${mean_unit_price:.2f}\")\n",
    "\n",
    "# 3. Maximum unit price\n",
    "max_unit_price = max(txn.unit_price for txn in transactions)\n",
    "print(f\"Maximum unit price: ${max_unit_price:.2f}\")\n",
    "\n",
    "# 4. Unique countries (used instead of shipping cities)\n",
    "unique_countries = {txn.country for txn in transactions}\n",
    "print(f\"Number of unique shipping countries: {len(unique_countries)}\")"
   ]
  },
  {
   "cell_type": "markdown",
   "id": "1e878632",
   "metadata": {},
   "source": [
    "Step 6: Spot the Grime (Identify Dirty Data)Look for bad dates, negative prices/costs, or missing values."
   ]
  },
  {
   "cell_type": "code",
   "execution_count": null,
   "id": "c7dd68a2",
   "metadata": {},
   "outputs": [
    {
     "name": "stdout",
     "output_type": "stream",
     "text": [
      "Found 0 dirty records:\n"
     ]
    }
   ],
   "source": [
    "def find_dirty_data(transactions):\n",
    "    dirty = []\n",
    "    for txn in transactions:\n",
    "        issues = []\n",
    "        \n",
    "        try:\n",
    "            pd.to_datetime(txn.order_date)\n",
    "            pd.to_datetime(txn.ship_date)\n",
    "        except Exception:\n",
    "            issues.append(\"Invalid date\")\n",
    "        \n",
    "        # Check prices\n",
    "        if txn.unit_price <= 0:\n",
    "            issues.append(\"Non-positive unit price\")\n",
    "        if txn.unit_cost <= 0:\n",
    "            issues.append(\"Non-positive unit cost\")\n",
    "        \n",
    "        # Check missing values (example)\n",
    "        if not txn.country:\n",
    "            issues.append(\"Missing country\")\n",
    "        \n",
    "        if issues:\n",
    "            dirty.append((txn.order_id, issues))\n",
    "    \n",
    "    return dirty\n",
    "\n",
    "dirty_data = find_dirty_data(transactions)\n",
    "print(f\"Found {len(dirty_data)} dirty records:\")\n",
    "for order_id, issues in dirty_data[:5]:\n",
    "    print(f\"Order {order_id}: {issues}\")"
   ]
  },
  {
   "cell_type": "markdown",
   "id": "f2258ea6",
   "metadata": {},
   "source": [
    "Step 7: Cleaning Rules (Implement .clean())"
   ]
  },
  {
   "cell_type": "code",
   "execution_count": 29,
   "id": "0d653221",
   "metadata": {},
   "outputs": [],
   "source": [
    "\n",
    "class Transaction:\n",
    "    def clean(self):\n",
    "        # Clean order_date\n",
    "        try:\n",
    "            self.order_date = pd.to_datetime(self.order_date)\n",
    "        except Exception:\n",
    "            self.order_date = None\n",
    "        \n",
    "        # Clean ship_date\n",
    "        try:\n",
    "            self.ship_date = pd.to_datetime(self.ship_date)\n",
    "        except Exception:\n",
    "            self.ship_date = None\n",
    "        \n",
    "        # Fix negative prices\n",
    "        if self.unit_price <= 0:\n",
    "            self.unit_price = None\n",
    "        if self.unit_cost <= 0:\n",
    "            self.unit_cost = None\n",
    "        \n",
    "        # Fill missing country with 'Unknown'\n",
    "        if not self.country:\n",
    "            self.country = \"Unknown\""
   ]
  },
  {
   "cell_type": "markdown",
   "id": "768d5656",
   "metadata": {},
   "source": [
    "Step 8: Transformations"
   ]
  },
  {
   "cell_type": "code",
   "execution_count": 30,
   "id": "f92b0901",
   "metadata": {},
   "outputs": [],
   "source": [
    "\n",
    "for txn in transactions:\n",
    "    if txn.total_revenue:\n",
    "        txn.profit_margin = txn.total_profit / txn.total_revenue\n",
    "    else:\n",
    "        txn.profit_margin = None"
   ]
  },
  {
   "cell_type": "markdown",
   "id": "f1ed81c7",
   "metadata": {},
   "source": [
    "Step 9: Feature Engineering"
   ]
  },
  {
   "cell_type": "code",
   "execution_count": null,
   "id": "22c9fe36",
   "metadata": {},
   "outputs": [],
   "source": [
    "\n",
    "\n",
    "for txn in transactions:\n",
    "    if txn.order_date and txn.ship_date:\n",
    "        txn.days_to_ship = (txn.ship_date - txn.order_date).days\n",
    "    else:\n",
    "        txn.days_to_ship = None\n",
    "    \n",
    "    txn.is_high_value = txn.total_revenue > 1_000_000  "
   ]
  },
  {
   "cell_type": "markdown",
   "id": "2b6c7a97",
   "metadata": {},
   "source": [
    "Step 10: Mini-Aggregation"
   ]
  },
  {
   "cell_type": "code",
   "execution_count": 32,
   "id": "527e603a",
   "metadata": {},
   "outputs": [
    {
     "name": "stdout",
     "output_type": "stream",
     "text": [
      "country\n",
      "Cuba                27522085.87\n",
      "Papua New Guinea    22209652.47\n",
      "Ghana               21267908.50\n",
      "Costa Rica          19628279.63\n",
      "Iran                18719532.99\n",
      "Name: total_revenue, dtype: float64\n"
     ]
    }
   ],
   "source": [
    "\n",
    "#Calculate metrics grouped by a field, e.g., total revenue per country.\n",
    "import pandas as pd\n",
    "\n",
    "# Convert transactions to DataFrame for groupby ease\n",
    "df = pd.DataFrame([txn.__dict__ for txn in transactions])\n",
    "\n",
    "revenue_per_country = df.groupby('country')['total_revenue'].sum().sort_values(ascending=False)\n",
    "print(revenue_per_country.head())"
   ]
  },
  {
   "cell_type": "markdown",
   "id": "463154b3",
   "metadata": {},
   "source": [
    "Step 11: Serialization"
   ]
  },
  {
   "cell_type": "code",
   "execution_count": 33,
   "id": "19fed162",
   "metadata": {},
   "outputs": [],
   "source": [
    "\n",
    "#Save cleaned/enriched data to JSON and Parquet for efficient storage and reuse.\n",
    "df.to_json('cleaned_transactions.json', orient='records', lines=True)\n",
    "df.to_parquet('cleaned_transactions.parquet')"
   ]
  },
  {
   "cell_type": "markdown",
   "id": "6f99d251",
   "metadata": {},
   "source": [
    "Step 12: Reflection "
   ]
  },
  {
   "cell_type": "markdown",
   "id": "bb6dba6c",
   "metadata": {},
   "source": [
    "\n",
    "                                                                                            \n",
    "Using an object-oriented approach through the `Transaction` class streamlined our data processing pipeline. \n",
    "Instead of managing raw dictionaries or DataFrames for each record, we encapsulated transaction behavior (like cleaning and computing totals) directly within the class. \n",
    "This led to better code reuse and cleaner abstractions, especially for transformation logic and feature engineering. \n",
    "For example, applying the `clean()` method uniformly across all records was simpler and less error-prone.\n",
    "OOP also made our code modular and testable—benefits that scale well as datasets grow."
   ]
  },
  {
   "cell_type": "markdown",
   "id": "7bf4c26a",
   "metadata": {},
   "source": [
    "Data-Dictionary Section"
   ]
  },
  {
   "cell_type": "code",
   "execution_count": 34,
   "id": "24b1d2ba",
   "metadata": {},
   "outputs": [
    {
     "data": {
      "text/html": [
       "<div>\n",
       "<style scoped>\n",
       "    .dataframe tbody tr th:only-of-type {\n",
       "        vertical-align: middle;\n",
       "    }\n",
       "\n",
       "    .dataframe tbody tr th {\n",
       "        vertical-align: top;\n",
       "    }\n",
       "\n",
       "    .dataframe thead th {\n",
       "        text-align: right;\n",
       "    }\n",
       "</style>\n",
       "<table border=\"1\" class=\"dataframe\">\n",
       "  <thead>\n",
       "    <tr style=\"text-align: right;\">\n",
       "      <th></th>\n",
       "      <th>Item Type</th>\n",
       "      <th>Category</th>\n",
       "      <th>Is Perishable</th>\n",
       "      <th>Avg Weight (kg)</th>\n",
       "    </tr>\n",
       "  </thead>\n",
       "  <tbody>\n",
       "    <tr>\n",
       "      <th>0</th>\n",
       "      <td>Office Supplies</td>\n",
       "      <td>Stationery</td>\n",
       "      <td>No</td>\n",
       "      <td>1.2</td>\n",
       "    </tr>\n",
       "    <tr>\n",
       "      <th>1</th>\n",
       "      <td>Fruits</td>\n",
       "      <td>Food</td>\n",
       "      <td>Yes</td>\n",
       "      <td>0.3</td>\n",
       "    </tr>\n",
       "    <tr>\n",
       "      <th>2</th>\n",
       "      <td>Clothes</td>\n",
       "      <td>Apparel</td>\n",
       "      <td>No</td>\n",
       "      <td>0.5</td>\n",
       "    </tr>\n",
       "    <tr>\n",
       "      <th>3</th>\n",
       "      <td>Baby Food</td>\n",
       "      <td>Food</td>\n",
       "      <td>Yes</td>\n",
       "      <td>0.4</td>\n",
       "    </tr>\n",
       "    <tr>\n",
       "      <th>4</th>\n",
       "      <td>Cereal</td>\n",
       "      <td>Food</td>\n",
       "      <td>Yes</td>\n",
       "      <td>0.6</td>\n",
       "    </tr>\n",
       "  </tbody>\n",
       "</table>\n",
       "</div>"
      ],
      "text/plain": [
       "         Item Type    Category Is Perishable  Avg Weight (kg)\n",
       "0  Office Supplies  Stationery            No              1.2\n",
       "1           Fruits        Food           Yes              0.3\n",
       "2          Clothes     Apparel            No              0.5\n",
       "3        Baby Food        Food           Yes              0.4\n",
       "4           Cereal        Food           Yes              0.6"
      ]
     },
     "execution_count": 34,
     "metadata": {},
     "output_type": "execute_result"
    }
   ],
   "source": [
    "import pandas as pd\n",
    "df = pd.read_csv('Data/product_metadata.csv') \n",
    "df.head()"
   ]
  },
  {
   "cell_type": "code",
   "execution_count": 35,
   "id": "eeddf157",
   "metadata": {},
   "outputs": [
    {
     "data": {
      "text/html": [
       "<div>\n",
       "<style scoped>\n",
       "    .dataframe tbody tr th:only-of-type {\n",
       "        vertical-align: middle;\n",
       "    }\n",
       "\n",
       "    .dataframe tbody tr th {\n",
       "        vertical-align: top;\n",
       "    }\n",
       "\n",
       "    .dataframe thead th {\n",
       "        text-align: right;\n",
       "    }\n",
       "</style>\n",
       "<table border=\"1\" class=\"dataframe\">\n",
       "  <thead>\n",
       "    <tr style=\"text-align: right;\">\n",
       "      <th></th>\n",
       "      <th>Region</th>\n",
       "      <th>Country</th>\n",
       "      <th>Item Type</th>\n",
       "      <th>Sales Channel</th>\n",
       "      <th>Order Priority</th>\n",
       "      <th>Order Date</th>\n",
       "      <th>Order ID</th>\n",
       "      <th>Ship Date</th>\n",
       "      <th>Units Sold</th>\n",
       "      <th>Unit Price</th>\n",
       "      <th>Unit Cost</th>\n",
       "      <th>Total Revenue</th>\n",
       "      <th>Total Cost</th>\n",
       "      <th>Total Profit</th>\n",
       "    </tr>\n",
       "  </thead>\n",
       "  <tbody>\n",
       "    <tr>\n",
       "      <th>0</th>\n",
       "      <td>Middle East and North Africa</td>\n",
       "      <td>Libya</td>\n",
       "      <td>Cosmetics</td>\n",
       "      <td>Offline</td>\n",
       "      <td>M</td>\n",
       "      <td>10/18/2014</td>\n",
       "      <td>686800706</td>\n",
       "      <td>10/31/2014</td>\n",
       "      <td>8446</td>\n",
       "      <td>437.20</td>\n",
       "      <td>263.33</td>\n",
       "      <td>3692591.20</td>\n",
       "      <td>2224085.18</td>\n",
       "      <td>1468506.02</td>\n",
       "    </tr>\n",
       "    <tr>\n",
       "      <th>1</th>\n",
       "      <td>North America</td>\n",
       "      <td>Canada</td>\n",
       "      <td>Vegetables</td>\n",
       "      <td>Online</td>\n",
       "      <td>M</td>\n",
       "      <td>11/7/2011</td>\n",
       "      <td>185941302</td>\n",
       "      <td>12/8/2011</td>\n",
       "      <td>3018</td>\n",
       "      <td>154.06</td>\n",
       "      <td>90.93</td>\n",
       "      <td>464953.08</td>\n",
       "      <td>274426.74</td>\n",
       "      <td>190526.34</td>\n",
       "    </tr>\n",
       "    <tr>\n",
       "      <th>2</th>\n",
       "      <td>Middle East and North Africa</td>\n",
       "      <td>Libya</td>\n",
       "      <td>Baby Food</td>\n",
       "      <td>Offline</td>\n",
       "      <td>C</td>\n",
       "      <td>10/31/2016</td>\n",
       "      <td>246222341</td>\n",
       "      <td>12/9/2016</td>\n",
       "      <td>1517</td>\n",
       "      <td>255.28</td>\n",
       "      <td>159.42</td>\n",
       "      <td>387259.76</td>\n",
       "      <td>241840.14</td>\n",
       "      <td>145419.62</td>\n",
       "    </tr>\n",
       "    <tr>\n",
       "      <th>3</th>\n",
       "      <td>Asia</td>\n",
       "      <td>Japan</td>\n",
       "      <td>Cereal</td>\n",
       "      <td>Offline</td>\n",
       "      <td>C</td>\n",
       "      <td>4/10/2010</td>\n",
       "      <td>161442649</td>\n",
       "      <td>5/12/2010</td>\n",
       "      <td>3322</td>\n",
       "      <td>205.70</td>\n",
       "      <td>117.11</td>\n",
       "      <td>683335.40</td>\n",
       "      <td>389039.42</td>\n",
       "      <td>294295.98</td>\n",
       "    </tr>\n",
       "    <tr>\n",
       "      <th>4</th>\n",
       "      <td>Sub-Saharan Africa</td>\n",
       "      <td>Chad</td>\n",
       "      <td>Fruits</td>\n",
       "      <td>Offline</td>\n",
       "      <td>H</td>\n",
       "      <td>8/16/2011</td>\n",
       "      <td>645713555</td>\n",
       "      <td>8/31/2011</td>\n",
       "      <td>9845</td>\n",
       "      <td>9.33</td>\n",
       "      <td>6.92</td>\n",
       "      <td>91853.85</td>\n",
       "      <td>68127.40</td>\n",
       "      <td>23726.45</td>\n",
       "    </tr>\n",
       "  </tbody>\n",
       "</table>\n",
       "</div>"
      ],
      "text/plain": [
       "                         Region Country   Item Type Sales Channel  \\\n",
       "0  Middle East and North Africa   Libya   Cosmetics       Offline   \n",
       "1                 North America  Canada  Vegetables        Online   \n",
       "2  Middle East and North Africa   Libya   Baby Food       Offline   \n",
       "3                          Asia   Japan      Cereal       Offline   \n",
       "4            Sub-Saharan Africa    Chad      Fruits       Offline   \n",
       "\n",
       "  Order Priority  Order Date   Order ID   Ship Date  Units Sold  Unit Price  \\\n",
       "0              M  10/18/2014  686800706  10/31/2014        8446      437.20   \n",
       "1              M   11/7/2011  185941302   12/8/2011        3018      154.06   \n",
       "2              C  10/31/2016  246222341   12/9/2016        1517      255.28   \n",
       "3              C   4/10/2010  161442649   5/12/2010        3322      205.70   \n",
       "4              H   8/16/2011  645713555   8/31/2011        9845        9.33   \n",
       "\n",
       "   Unit Cost  Total Revenue  Total Cost  Total Profit  \n",
       "0     263.33     3692591.20  2224085.18    1468506.02  \n",
       "1      90.93      464953.08   274426.74     190526.34  \n",
       "2     159.42      387259.76   241840.14     145419.62  \n",
       "3     117.11      683335.40   389039.42     294295.98  \n",
       "4       6.92       91853.85    68127.40      23726.45  "
      ]
     },
     "execution_count": 35,
     "metadata": {},
     "output_type": "execute_result"
    }
   ],
   "source": [
    "main_df = pd.read_csv('Data/1000 Sales Records.csv')\n",
    "main_df.head()"
   ]
  }
 ],
 "metadata": {
  "kernelspec": {
   "display_name": "venv",
   "language": "python",
   "name": "python3"
  },
  "language_info": {
   "codemirror_mode": {
    "name": "ipython",
    "version": 3
   },
   "file_extension": ".py",
   "mimetype": "text/x-python",
   "name": "python",
   "nbconvert_exporter": "python",
   "pygments_lexer": "ipython3",
   "version": "3.13.3"
  }
 },
 "nbformat": 4,
 "nbformat_minor": 5
}
