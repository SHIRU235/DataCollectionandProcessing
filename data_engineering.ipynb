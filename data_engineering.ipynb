{
 "cells": [
  {
   "cell_type": "code",
   "execution_count": null,
   "id": "6fbbe596",
   "metadata": {},
   "outputs": [],
   "source": [
    "%pip install matplotlib seaborn matplotlib-venn pandas"
   ]
  },
  {
   "cell_type": "code",
   "execution_count": null,
   "id": "b2a31c81",
   "metadata": {},
   "outputs": [],
   "source": [
    "import pandas as pd\n",
    "# Load the CSV file (adjust filename/path accordingly)\n",
    "df = pd.read_csv('Data/1000 Sales Records.csv')\n",
    "\n",
    "# Show the first 3 rows\n",
    "df.head(3)\n"
   ]
  },
  {
   "cell_type": "code",
   "execution_count": null,
   "id": "17094325",
   "metadata": {},
   "outputs": [],
   "source": []
  }
 ],
 "metadata": {
  "kernelspec": {
   "display_name": "venv",
   "language": "python",
   "name": "python3"
  },
  "language_info": {
   "name": "python",
   "version": "3.13.3"
  }
 },
 "nbformat": 4,
 "nbformat_minor": 5
}
